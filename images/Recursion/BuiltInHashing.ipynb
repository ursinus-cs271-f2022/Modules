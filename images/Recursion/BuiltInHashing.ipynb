{
 "cells": [
  {
   "cell_type": "markdown",
   "id": "ad455c39",
   "metadata": {},
   "source": [
    "## Python Sets"
   ]
  },
  {
   "cell_type": "code",
   "execution_count": 1,
   "id": "14a70a4c",
   "metadata": {},
   "outputs": [],
   "source": [
    "s = set()"
   ]
  },
  {
   "cell_type": "code",
   "execution_count": 2,
   "id": "d94210ac",
   "metadata": {},
   "outputs": [
    {
     "name": "stdout",
     "output_type": "stream",
     "text": [
      "{0, 1, 2, 3, 4, 5, 6, 7, 8, 9}\n"
     ]
    }
   ],
   "source": [
    "for i in range(10):\n",
    "    s.add(i)\n",
    "s.add(4)\n",
    "s.add(8)\n",
    "print(s)"
   ]
  },
  {
   "cell_type": "code",
   "execution_count": 3,
   "id": "333cbf56",
   "metadata": {},
   "outputs": [
    {
     "name": "stdout",
     "output_type": "stream",
     "text": [
      "{0, 1, 2, 4, 5, 6, 7, 8, 9}\n"
     ]
    }
   ],
   "source": [
    "s.remove(3)\n",
    "print(s)"
   ]
  },
  {
   "cell_type": "code",
   "execution_count": 4,
   "id": "38a1d7c1",
   "metadata": {},
   "outputs": [
    {
     "data": {
      "text/plain": [
       "True"
      ]
     },
     "execution_count": 4,
     "metadata": {},
     "output_type": "execute_result"
    }
   ],
   "source": [
    "1 in s"
   ]
  },
  {
   "cell_type": "code",
   "execution_count": 5,
   "id": "44a6f391",
   "metadata": {},
   "outputs": [
    {
     "data": {
      "text/plain": [
       "False"
      ]
     },
     "execution_count": 5,
     "metadata": {},
     "output_type": "execute_result"
    }
   ],
   "source": [
    "271 in s"
   ]
  },
  {
   "cell_type": "code",
   "execution_count": 6,
   "id": "14940bf5",
   "metadata": {},
   "outputs": [],
   "source": [
    "s = set()"
   ]
  },
  {
   "cell_type": "markdown",
   "id": "0b36f2d5",
   "metadata": {},
   "source": [
    "We can't add things to a set like a list that are \"mutable\" (i.e. can be changed during runtime), because it is impossible to come up with a hash code for them that is guaranteed to be unique"
   ]
  },
  {
   "cell_type": "code",
   "execution_count": null,
   "id": "454104a5",
   "metadata": {},
   "outputs": [],
   "source": [
    "s.add([1, 2])"
   ]
  },
  {
   "cell_type": "markdown",
   "id": "12f81b98",
   "metadata": {},
   "source": [
    "instead, if we want to add things that are grouped together in a list-like structure, we should use a <b>tuple</b>, which is \"immutable\" (i.e. not allowed to be changed during runtime)"
   ]
  },
  {
   "cell_type": "code",
   "execution_count": 7,
   "id": "a4561429",
   "metadata": {},
   "outputs": [],
   "source": [
    "s.add((1, 2))"
   ]
  },
  {
   "cell_type": "markdown",
   "id": "184376a8",
   "metadata": {},
   "source": []
  },
  {
   "cell_type": "code",
   "execution_count": 8,
   "id": "3e485d4d",
   "metadata": {},
   "outputs": [],
   "source": [
    "class Wizard:\n",
    "    def __init__(self, name, month, day, year):\n",
    "        self.name = name\n",
    "        self.month = month\n",
    "        self.day = day\n",
    "        self.year = year\n",
    "    \n",
    "    def __hash__(self):\n",
    "        return self.day*12 + self.month\n",
    "    \n",
    "    def get_all_info_str(self):\n",
    "        return \"{}: {}/{}/{}\".format(self.name, self.month, self.day, self.year)\n",
    "\n",
    "    def __eq__(self, other):\n",
    "        return self.name == other.name and self.month == other.month and self.day == other.day and self.year == other.year\n",
    "\n",
    "    def __str__(self):\n",
    "        return self.name\n",
    "\n",
    "def get_all_wizards():\n",
    "    \"\"\"\n",
    "    Return a list of all of the wizards in the database\n",
    "    \"\"\"\n",
    "    wizards = []\n",
    "    fin = open(\"HarryPotter.csv\")\n",
    "    for line in fin.readlines():\n",
    "        name, month, day, year = line.split(\",\")\n",
    "        wizards.append(Wizard(name, int(month), int(day), int(year)))\n",
    "    return wizards"
   ]
  },
  {
   "cell_type": "code",
   "execution_count": 9,
   "id": "53d4e435",
   "metadata": {},
   "outputs": [
    {
     "name": "stdout",
     "output_type": "stream",
     "text": [
      "Albus Dumbledore\n",
      "Vincent Crabbe\n",
      "Olivander\n",
      "Molly Weasley\n",
      "Arthur Weasley\n",
      "Draco Malfoy\n",
      "Padma Patil\n",
      "Paravi Patil\n",
      "Tom Riddle\n",
      "Bill Weasley\n",
      "Harry Potter\n",
      "Lavender Brown\n",
      "Blaise Zabini\n",
      "Cedric Diggory\n",
      "Dean Thomas\n",
      "Flilus Flitwick\n",
      "Rita Skeeter\n",
      "Ron Weasley\n",
      "Fred Weasley\n",
      "George Weasley\n",
      "Hermione Granger\n",
      "Sybil Trelawney\n",
      "Bellatrix Lestrange\n",
      "Peter Pettigrew\n",
      "James Potter\n",
      "Luna Lovegood\n",
      "Neville Longbottom\n",
      "Lucius Malfoy\n",
      "Ginny Weasley\n",
      "Argus Filch\n",
      "Katie Bell\n",
      "Pansy Parkinson\n",
      "Seamus Finnigan\n",
      "Minerva McGonagall\n",
      "Pomona Sprout\n",
      "Cornelius Fudge\n",
      "Cho Chang\n",
      "Lily Potter\n",
      "Percy Weasley\n",
      "Rubeus Hagrid\n",
      "Fleur Delacour\n",
      "Gregory Goyle\n",
      "Remus Lupin\n",
      "Kingsley Shacklebolt\n",
      "Severus Snape\n",
      "Sirius Black\n"
     ]
    }
   ],
   "source": [
    "wizards = set()\n",
    "for w in get_all_wizards():\n",
    "    wizards.add(w)\n",
    "\n",
    "for w in wizards:\n",
    "    print(w)"
   ]
  },
  {
   "cell_type": "markdown",
   "id": "54831540",
   "metadata": {},
   "source": [
    "## Python Dictionaries\n",
    "\n",
    "A dictionary is just like a set, except we store an extra piece of information tacked onto the elements.  The item that's hashed is called the \"key,\" and the associated information is called the \"value\".  In the example below, keys are strings, and values are ints\n"
   ]
  },
  {
   "cell_type": "code",
   "execution_count": 10,
   "id": "87aca46d",
   "metadata": {},
   "outputs": [],
   "source": [
    "d = {\"theo\":10, \"layla\":9, \"chris\":33} # dictionary"
   ]
  },
  {
   "cell_type": "code",
   "execution_count": 12,
   "id": "53867ff5",
   "metadata": {},
   "outputs": [
    {
     "name": "stdout",
     "output_type": "stream",
     "text": [
      "10\n",
      "{'theo': 10, 'layla': 9, 'chris': 33, 'celia': 32}\n"
     ]
    }
   ],
   "source": [
    "print(d[\"theo\"])\n",
    "d[\"celia\"] = 32\n",
    "print(d)"
   ]
  },
  {
   "cell_type": "code",
   "execution_count": 15,
   "id": "b4700ecb",
   "metadata": {},
   "outputs": [
    {
     "name": "stdout",
     "output_type": "stream",
     "text": [
      "{'theo': 10, 'layla': 9, 'chris': 33, 'celia': 32, (1, 2): 'something'}\n"
     ]
    }
   ],
   "source": [
    "d[(1, 2)] = \"something\"\n",
    "print(d)"
   ]
  }
 ],
 "metadata": {
  "kernelspec": {
   "display_name": "Python 3 (ipykernel)",
   "language": "python",
   "name": "python3"
  },
  "language_info": {
   "codemirror_mode": {
    "name": "ipython",
    "version": 3
   },
   "file_extension": ".py",
   "mimetype": "text/x-python",
   "name": "python",
   "nbconvert_exporter": "python",
   "pygments_lexer": "ipython3",
   "version": "3.9.7"
  }
 },
 "nbformat": 4,
 "nbformat_minor": 5
}
